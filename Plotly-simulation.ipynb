{
 "cells": [
  {
   "cell_type": "markdown",
   "metadata": {
    "collapsed": true
   },
   "source": [
    "### Import plotly and set credentials"
   ]
  },
  {
   "cell_type": "code",
   "execution_count": 1,
   "metadata": {
    "collapsed": false
   },
   "outputs": [],
   "source": [
    "%matplotlib inline\n",
    "import matplotlib.pyplot as plt\n",
    "import plotly \n",
    "#setting credentials once is enough\n",
    "#plotly.tools.set_credentials_file(username='swinging-sticks', api_key='9QFKtwuiThwSDeWoiiqG', \n",
    "                                 #stream_ids = ['n533fw623f', '11abz0z17d', 'dt2m0v8em8', '1eynig0e1q', 'ji10b2ilrx'])\n",
    "\n",
    "import plotly.plotly as py\n",
    "import plotly.tools as tls\n",
    "from plotly.graph_objs import *\n",
    "\n",
    "import numpy as np\n",
    "import csv\n",
    "\n",
    "import scipy.integrate as integrate\n",
    "import time\n",
    "\n",
    "stream_ids = tls.get_credentials_file()['stream_ids']\n"
   ]
  },
  {
   "cell_type": "markdown",
   "metadata": {},
   "source": [
    "### Simulating double pendulum\n",
    "#### initialize variables and define derivative function"
   ]
  },
  {
   "cell_type": "code",
   "execution_count": 2,
   "metadata": {
    "collapsed": false
   },
   "outputs": [],
   "source": [
    "from numpy import sin, cos, pi\n",
    "\n",
    "# Define constants\n",
    "g = 9.8      # acceleration due to gravity m/s^2\n",
    "L1 = 1.0     # length of pendulum 1 in m\n",
    "L2 = 1.0     # length of pendulum 2 in m\n",
    "M1 = 1.0     # mass of pendulum 1 in kg\n",
    "M2 = 1.0     # mass of pendulum 2 in kg\n",
    "rad = pi/180\n",
    "\n",
    "# Set initial conditions\n",
    "th1 = 90    # angle of pendulum 1 in degrees\n",
    "th2 = 90    # angle of pendulum 2 in degrees\n",
    "w1 = 0.0     # ang. mom. in degrees/sec\n",
    "w2 = 0.0     # ang. mom. in degrees/sec\n",
    "state = np.array([th1, w1, th2, w2])*rad\n",
    "\n",
    "#Time derivatives\n",
    "def derivs(state, t):\n",
    "    dxdt = np.zeros(len(state))   #init derivative\n",
    "    del_ = state[2]-state[0]     #diff in angle\n",
    "    \n",
    "    dxdt[0] = state[1]           #derv. of angle 1\n",
    "    \n",
    "    den1 = (M1+M2)*L1 - M2*L1*cos(del_)*cos(del_)\n",
    "    dxdt[1] = (M2*L1*state[1]*sin(del_)*cos(del_) \n",
    "              + M2*g*sin(state[0])*cos(del_)\n",
    "              + M2*L2*state[3]*state[3]*sin(del_)\n",
    "              -(M1+M2)*g*sin(state[0]))/den1\n",
    "    \n",
    "    dxdt[2] = state[3]\n",
    "    \n",
    "    den2 = (L2/L1)*den1\n",
    "    dxdt[3] = (-M2*L2*state[3]*state[3]*sin(del_)*cos(del_)\n",
    "               + (M1+M2)*g*sin(state[0])*cos(del_)\n",
    "               - (M1+M2)*L1*state[1]*state[1]*sin(del_)\n",
    "               - (M1+M2)*g*sin(state[2]))/den2\n",
    "    \n",
    "    return dxdt"
   ]
  },
  {
   "cell_type": "markdown",
   "metadata": {},
   "source": [
    "### Setting up the plot\n",
    "#### From plotly - plots the two pendulum positions and the path of the second pendulum "
   ]
  },
  {
   "cell_type": "code",
   "execution_count": 3,
   "metadata": {
    "collapsed": false
   },
   "outputs": [],
   "source": [
    "# drawing the two pendulums\n",
    "\n",
    "trace1 = Scatter(\n",
    "    x = [],\n",
    "    y = [],\n",
    "    mode = 'lines+markers',    #this shows the actual position of pendulum with a line in-betw\n",
    "    marker = Marker(size = 12),\n",
    "    stream = Stream(token = stream_ids[1])\n",
    ")\n",
    "\n",
    "# marking the end position movement of second pendulum\n",
    "\n",
    "trace2 = Scatter(\n",
    "    x = [],\n",
    "    y = [],\n",
    "    mode = 'lines',\n",
    "    stream = Stream(token = stream_ids[2], maxpoints = 100)\n",
    ")\n",
    "\n",
    "# Make data object made up of the 2 scatter objs\n",
    "data = Data([trace1, trace2])"
   ]
  },
  {
   "cell_type": "markdown",
   "metadata": {},
   "source": [
    "#### The following will create 2 plots.\n",
    "####  1) A delta function when there is a flip 2) Number of flips/minute against a guess value"
   ]
  },
  {
   "cell_type": "code",
   "execution_count": 4,
   "metadata": {
    "collapsed": false
   },
   "outputs": [],
   "source": [
    "# Plotting when flip happens as a function of time\n",
    "trace0 = Scatter(\n",
    "    x = [],\n",
    "    y = [],\n",
    "    mode = 'lines',\n",
    "    stream = Stream(token = stream_ids[0], maxpoints = 1000)\n",
    ")\n",
    "\n",
    "data0 = Data([trace0])\n",
    "\n",
    "# Plotting no of flips/minute against guess value\n",
    "trace3 = Scatter(\n",
    "    x = [],\n",
    "    y = [],\n",
    "    mode = 'lines',\n",
    "    stream = Stream(token = stream_ids[3], maxpoints = 10)\n",
    ")\n",
    "\n",
    "trace_guess = Scatter(\n",
    "    x = [],\n",
    "    y = [],\n",
    "    mode = 'lines',\n",
    "    stream = Stream(token = stream_ids[4], maxpoints = 10)\n",
    ")\n",
    "data3 = Data([trace3, trace_guess])"
   ]
  },
  {
   "cell_type": "markdown",
   "metadata": {
    "collapsed": true
   },
   "source": [
    "\n",
    "#### Setting up axis style and stream objects\n",
    "#### This step will open the online plots in tabs"
   ]
  },
  {
   "cell_type": "code",
   "execution_count": 5,
   "metadata": {
    "collapsed": false
   },
   "outputs": [],
   "source": [
    "axis_style = dict(\n",
    "    showgrid = False,\n",
    "    showline = False,\n",
    "    zeroline = False\n",
    ")\n",
    "\n",
    "layout = Layout(\n",
    "    title='Double Pendulum Simulation',  # set plot's title\n",
    "    xaxis=XAxis(\n",
    "        axis_style,     # add style options\n",
    "        range=[-2,2]    # set x-axis range\n",
    "    ),\n",
    "    yaxis=YAxis(\n",
    "        axis_style,     # add style options\n",
    "        range=[-2,2]  # set y-axis range\n",
    "    ),\n",
    "    showlegend=False    # remove legend\n",
    ")\n",
    "\n",
    "\n",
    "# Make figure object\n",
    "fig = Figure(data=data, layout=layout) # plot of pendulum\n",
    "fig0 = Figure(data=data0) # plot of flips per minute\n",
    "fig3 = Figure(data=data3) # plot of number of flips/minute vs guess value\n",
    "\n",
    "# (@) Send fig to Plotly, initialize streaming plot, open tab\n",
    "unique_url = py.plot(fig, filename='s7_streaming-double-pendulum')\n",
    "unique_url0 = py.plot(fig0, filename='Flip')\n",
    "unique_url3 = py.plot(fig3, filename='Flips-per-minute')\n",
    "\n",
    "# (@) Make instances of the stream link object, \n",
    "#     with same stream id as the stream id object in traces\n",
    "s1 = py.Stream(stream_ids[1]) #fig\n",
    "s2 = py.Stream(stream_ids[2]) #fig\n",
    "\n",
    "s0 = py.Stream(stream_ids[0]) #fig0\n",
    "\n",
    "s3 = py.Stream(stream_ids[3]) #fig3\n",
    "s4 = py.Stream(stream_ids[4]) #fig3\n",
    "\n",
    "# (@) Open streams\n",
    "s1.open()\n",
    "s2.open()\n",
    "\n",
    "s0.open()\n",
    "\n",
    "s3.open()\n",
    "s4.open()"
   ]
  },
  {
   "cell_type": "markdown",
   "metadata": {},
   "source": [
    "#### Run Simulation to create 'historical data'\n",
    "#### SKIP THIS STEP. Takes a long time.. instead read from csv file as shown below"
   ]
  },
  {
   "cell_type": "code",
   "execution_count": null,
   "metadata": {
    "collapsed": false
   },
   "outputs": [],
   "source": [
    "# Running ODE 1000 times to generate histogram\n",
    "\n",
    "N = 1000   # number of time integrate.odeint() integrations \n",
    "i = 0   # init. counter\n",
    "\n",
    "flip_total = []\n",
    "counts = np.zeros(N)\n",
    "\n",
    "# Solve the system of ODEs N times. Each simulation is for 60s\n",
    "while i < N:\n",
    "\n",
    "    dt = 0.1                    \n",
    "    t = np.arange(0.0, 60, dt)  # sampled at 0.1 second steps (of 600 steps in all) units seconds. \n",
    "\n",
    "    # Solve the system of ODEs, for times in t!\n",
    "    y = integrate.odeint(derivs, state, t)\n",
    "\n",
    "    x1 = L1*sin(y[:,0])        # convert angles to x-y coordinates\n",
    "    y1 = -L1*cos(y[:,0])\n",
    "    x2 = L2*sin(y[:,2]) + x1   #   for both pendulums\n",
    "    y2 = -L2*cos(y[:,2]) + y1\n",
    "\n",
    "   \n",
    "    indices = [ind for ind,a in enumerate(y1) if a>0.9] #Checking where the first pendulum become close to horizontal\n",
    "    flip = np.zeros(len(t))\n",
    "    \n",
    "    for ind in indices:\n",
    "        try:\n",
    "            n = np.absolute(np.sign(x1[ind]) - np.sign(x1[ind+1]))  # checking if x changes sign\n",
    "            if n==2:\n",
    "                flip[ind] = 1 #flip = 1 when there is a flip. \n",
    "                        #flip = 0 when there is no flip  \n",
    "        except:\n",
    "            continue\n",
    "    \n",
    "    flip_total.append(zip(i*60+t, flip))\n",
    "    counts[i] = np.sum(flip)\n",
    "    # Set the new initial state\n",
    "    state = np.array([y[-1,0], y[-1,1], y[-1,2], y[-1,3]])\n",
    "    i += 1                      # add to counter\n",
    "    "
   ]
  },
  {
   "cell_type": "markdown",
   "metadata": {},
   "source": [
    "#### Write historical data\n",
    "#### SKIP this as well"
   ]
  },
  {
   "cell_type": "code",
   "execution_count": null,
   "metadata": {
    "collapsed": false
   },
   "outputs": [],
   "source": [
    "with open('flip_total.csv', 'wb') as csvfile:\n",
    "    fieldnames = ['time (s)', 'flip']\n",
    "    writer = csv.writer(csvfile)\n",
    "    writer.writerow(fieldnames)\n",
    "    for a in flip_total:\n",
    "        for b in a:\n",
    "            writer.writerow([b[0], b[1]])\n",
    "\n",
    "with open('counts.csv', 'wb') as csvfile:\n",
    "    fieldnames = ['time(m)', 'flip/min']\n",
    "    writer = csv.writer(csvfile)\n",
    "    writer.writerow(fieldnames)\n",
    "    for a, b in enumerate(counts):\n",
    "        writer.writerow([a,b])"
   ]
  },
  {
   "cell_type": "markdown",
   "metadata": {},
   "source": [
    "#### Read historical data"
   ]
  },
  {
   "cell_type": "code",
   "execution_count": 20,
   "metadata": {
    "collapsed": false
   },
   "outputs": [],
   "source": [
    "counts = []\n",
    "with open('counts.csv', 'rb') as csvfile:\n",
    "    reader = csv.DictReader(csvfile, delimiter=',', quotechar='|')\n",
    "    for row in reader:\n",
    "        counts.append(float(row['flip/min']))\n",
    "                      \n",
    "h = np.histogram(counts, range(int(max(counts))))"
   ]
  },
  {
   "cell_type": "markdown",
   "metadata": {},
   "source": [
    "#### Guess from historical data"
   ]
  },
  {
   "cell_type": "code",
   "execution_count": 21,
   "metadata": {
    "collapsed": true
   },
   "outputs": [],
   "source": [
    "def guess(h): \n",
    "    cum = np.cumsum(h[0])\n",
    "    g = np.random.randint(1000)\n",
    "    ind = [i for i,a in enumerate(cum) if a>g]\n",
    "    return(ind[0])"
   ]
  },
  {
   "cell_type": "markdown",
   "metadata": {},
   "source": [
    "#### Run simulation \n",
    "#### This writes data into the plots"
   ]
  },
  {
   "cell_type": "code",
   "execution_count": 22,
   "metadata": {
    "collapsed": false
   },
   "outputs": [],
   "source": [
    "N = 10   # number of time integrate.odeint() integrations \n",
    "i = 0   # init. counter\n",
    "# Delay start of stream by 5 sec (time to switch tabs)\n",
    "time.sleep(5)\n",
    "\n",
    "# (-) Solve the system of ODEs N times\n",
    "while i < N:\n",
    "\n",
    "    dt = 0.1                   # create a time array from 0..100  \n",
    "    t = np.arange(0.0, 60, dt)  # sampled at 0.05 second steps (of 400 steps in all)\n",
    "\n",
    "    # Solve the system of ODEs, for times in t!\n",
    "    y = integrate.odeint(derivs, state, t)\n",
    "\n",
    "    x1 = L1*sin(y[:,0])        # convert angles to x-y coordinates\n",
    "    y1 = -L1*cos(y[:,0])\n",
    "    x2 = L2*sin(y[:,2]) + x1   #   for both pendulums\n",
    "    y2 = -L2*cos(y[:,2]) + y1\n",
    "\n",
    "    # (!) Write the solutions to Plotly's servers, \n",
    "    #     1 per stream, 1 point at a time\n",
    "    for (x1i, y1i, x2i, y2i) in zip(x1, y1, x2, y2):\n",
    "\n",
    "        # (@) Write list corresponding to 3 pendulum nodes,\n",
    "        #     overwriting the data on the plot\n",
    "        s1.write(dict(x=[0, x1i, x2i], y=[0, y1i, y2i]))\n",
    "\n",
    "        # (@) Write 1 point corresponding to 1 pt of path,\n",
    "        #     appending the data on the plot\n",
    "        s2.write(dict(x=x2i, y=y2i))\n",
    "\n",
    "        time.sleep(0.08)  # (!) plot pts 80 ms at a time, for smoother plotting\n",
    "\n",
    "    indices = [ind for ind,a in enumerate(y1) if a>0.9] #Checking where the first pendulum become close to horizontal\n",
    "    flip = np.zeros(len(t))\n",
    "    \n",
    "    for ind in indices:\n",
    "        try:\n",
    "            n = np.absolute(np.sign(x1[ind]) - np.sign(x1[ind+1]))  # checking if x changes sign\n",
    "            if n==2:\n",
    "                flip[ind] = 1 #flip = 1 when there is a flip. \n",
    "                        #flip = 0 when there is no flip  \n",
    "        except:\n",
    "            continue\n",
    "   \n",
    "    s0.write(dict(x = i*60+t, y = flip))\n",
    "    \n",
    "    s3.write(dict(x = i, y = np.sum(flip)))\n",
    "    s4.write(dict(x = i, y = guess(h)))  #h == histogram of counts, calculated from historical data\n",
    "\n",
    "    # Set the new initial state\n",
    "    state = np.array([y[-1,0], y[-1,1], y[-1,2], y[-1,3]])\n",
    "    i += 1                      # add to counter\n",
    "    \n",
    "    \n",
    "# (@) Close both streams when done plotting\n",
    "s1.close()\n",
    "s2.close()\n",
    "\n",
    "s0.close()\n",
    "\n",
    "s3.close()\n",
    "s4.close()"
   ]
  },
  {
   "cell_type": "markdown",
   "metadata": {},
   "source": [
    "### Testing area"
   ]
  }
 ],
 "metadata": {
  "kernelspec": {
   "display_name": "Python 2",
   "language": "python",
   "name": "python2"
  },
  "language_info": {
   "codemirror_mode": {
    "name": "ipython",
    "version": 2
   },
   "file_extension": ".py",
   "mimetype": "text/x-python",
   "name": "python",
   "nbconvert_exporter": "python",
   "pygments_lexer": "ipython2",
   "version": "2.7.13"
  }
 },
 "nbformat": 4,
 "nbformat_minor": 2
}
